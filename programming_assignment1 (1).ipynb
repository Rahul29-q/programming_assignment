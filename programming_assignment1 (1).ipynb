{
 "cells": [
  {
   "cell_type": "code",
   "execution_count": 1,
   "id": "a9d38f43-f0e3-44ad-9a52-a54e070b49ed",
   "metadata": {},
   "outputs": [
    {
     "name": "stdout",
     "output_type": "stream",
     "text": [
      "Hello Python\n"
     ]
    }
   ],
   "source": [
    "#program to print \"Hello Python\"\n",
    "print(\"Hello Python\")"
   ]
  },
  {
   "cell_type": "code",
   "execution_count": 4,
   "id": "7bb2cebc-a2cc-4bd2-bc3d-fc93998c41a1",
   "metadata": {},
   "outputs": [
    {
     "name": "stdin",
     "output_type": "stream",
     "text": [
      "Enter the first number 4\n",
      "Enter the second number 6\n"
     ]
    },
    {
     "name": "stdout",
     "output_type": "stream",
     "text": [
      "The addition of the given numbers= ,10.0\n",
      "The division of the first number by the second number= ,0.6666666666666666\n"
     ]
    }
   ],
   "source": [
    "##program to do arithmetical operations addition and division.\n",
    "a=float(input(\"Enter the first number\"))\n",
    "b=float(input(\"Enter the second number\"))\n",
    "print(f\"The addition of the given numbers= ,{a+b}\")\n",
    "if b==0:\n",
    "    print(\"The division is not defined. Enter the second number a non zero one\") \n",
    "else:\n",
    "    print(f\"The division of the first number by the second number= ,{a/b}\") "
   ]
  },
  {
   "cell_type": "code",
   "execution_count": 6,
   "id": "81fa3902-a263-4fe4-ae6a-210624c29ff2",
   "metadata": {},
   "outputs": [
    {
     "name": "stdin",
     "output_type": "stream",
     "text": [
      "Enter the length of the first side of the triangle 3\n",
      "Enter the length of the second side of the triangle 3\n",
      "Enter the length of the third side of the triangle 3\n"
     ]
    },
    {
     "name": "stdout",
     "output_type": "stream",
     "text": [
      "The area of the triangle is 3.897114317029974\n"
     ]
    }
   ],
   "source": [
    "#program to find the area of a triangle\n",
    "a=float(input(\"Enter the length of the first side of the triangle\"))\n",
    "b=float(input(\"Enter the length of the second side of the triangle\"))\n",
    "c=float(input(\"Enter the length of the third side of the triangle\"))\n",
    "s=(a+b+c)/2\n",
    "print(f\"The area of the triangle is {(s*(s-a)*(s-b)*(s-c))**(1/2)}\")"
   ]
  },
  {
   "cell_type": "code",
   "execution_count": 7,
   "id": "9fbabd2d-20b4-4d0e-bf34-69b75e29986b",
   "metadata": {},
   "outputs": [
    {
     "name": "stdin",
     "output_type": "stream",
     "text": [
      "Enter the first variable a\n",
      "Enter the second variable b\n"
     ]
    },
    {
     "name": "stdout",
     "output_type": "stream",
     "text": [
      "After swapping the first variable becomes b\n",
      "          and the second variable becomes a\n"
     ]
    }
   ],
   "source": [
    "#program to swap two variables\n",
    "a=input(\"Enter the first variable\")\n",
    "b=input(\"Enter the second variable\")\n",
    "c=b\n",
    "b=a\n",
    "a=c\n",
    "print(f\"\"\"After swapping the first variable becomes {a}\n",
    "          and the second variable becomes {b}\"\"\")"
   ]
  },
  {
   "cell_type": "code",
   "execution_count": 5,
   "id": "42655dd2-285e-4b02-8345-799a232cccb0",
   "metadata": {},
   "outputs": [
    {
     "name": "stdout",
     "output_type": "stream",
     "text": [
      "-98113\n"
     ]
    }
   ],
   "source": [
    "#program to generate a random number\n",
    "import random\n",
    "print(random.randint(-100000,100000))"
   ]
  },
  {
   "cell_type": "code",
   "execution_count": null,
   "id": "60098908-5ee3-41fd-a855-76793971439d",
   "metadata": {},
   "outputs": [],
   "source": []
  },
  {
   "cell_type": "code",
   "execution_count": null,
   "id": "830ba581-e1c6-41e6-b39a-b0e0bc1fdb1e",
   "metadata": {},
   "outputs": [],
   "source": []
  }
 ],
 "metadata": {
  "kernelspec": {
   "display_name": "Python 3 (ipykernel)",
   "language": "python",
   "name": "python3"
  },
  "language_info": {
   "codemirror_mode": {
    "name": "ipython",
    "version": 3
   },
   "file_extension": ".py",
   "mimetype": "text/x-python",
   "name": "python",
   "nbconvert_exporter": "python",
   "pygments_lexer": "ipython3",
   "version": "3.10.6"
  }
 },
 "nbformat": 4,
 "nbformat_minor": 5
}
