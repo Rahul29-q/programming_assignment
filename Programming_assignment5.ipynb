{
 "cells": [
  {
   "cell_type": "code",
   "execution_count": null,
   "id": "f1b7d449-3500-41b3-bdf2-69ea9c5a40d1",
   "metadata": {},
   "outputs": [],
   "source": [
    "#Program to Find LCM\n",
    "l=input(\"Enter the numbers you want to find the LCM of seperated by comma\")\n",
    "l1=l.split(\",\")\n",
    "for i in range(0,len(l1)):\n",
    "    l1[i]=int(l1[i])\n",
    "def gcd(n, m):\n",
    "    if m == 0:\n",
    "        return n\n",
    "    return gcd(m, n % m)\n",
    "\n",
    "\n",
    "lcm = 1\n",
    "for i in l1:\n",
    "    lcm = lcm * i // gcd(lcm, i)\n",
    "    \n",
    "print(lcm)\n",
    "      \n",
    "    "
   ]
  },
  {
   "cell_type": "code",
   "execution_count": null,
   "id": "6ee90203-2c3d-43eb-8626-2acaff953da8",
   "metadata": {},
   "outputs": [],
   "source": [
    "#Program to Find HCF\n",
    "l=input(\"Enter the numbers you want to find the HCF of seperated by comma\")\n",
    "l1=l.split(\",\")\n",
    "for i in range(0,len(l1)):\n",
    "    l1[i]=int(l1[i])\n",
    "def gcd(n, m):\n",
    "    if m == 0:\n",
    "        return n\n",
    "    return gcd(m, n % m)\n",
    "hcf=l1[0]\n",
    "for i in l1:\n",
    "    hcf=gcd(hcf,i)\n",
    "print(hcf)"
   ]
  },
  {
   "cell_type": "code",
   "execution_count": null,
   "id": "5a046c63-0240-4e1e-97e1-29c197f6332c",
   "metadata": {},
   "outputs": [],
   "source": [
    "# Python program to convert decimal into other number systems\n",
    "dec=int(input(\"Enter a decimal number\"))\n",
    "print(\"The decimal value of\", dec, \"is:\")\n",
    "print(bin(dec), \"in binary.\")\n",
    "print(oct(dec), \"in octal.\")\n",
    "print(hex(dec), \"in hexadecimal.\")\n"
   ]
  },
  {
   "cell_type": "code",
   "execution_count": null,
   "id": "7bac41df-4c69-4416-9d38-3951be1a5eaf",
   "metadata": {},
   "outputs": [],
   "source": [
    "#Program To Find ASCII value of a character?\n",
    "c= input(\"Enter a character\")\n",
    "print(\"The ASCII value of '\" + c + \"' is\", ord(c))"
   ]
  },
  {
   "cell_type": "code",
   "execution_count": null,
   "id": "a4754441-ae3f-4a38-823d-e643eda02870",
   "metadata": {},
   "outputs": [],
   "source": [
    "#Program to Make a Simple Calculator with 4 basic mathematical operations\n",
    "def add(x, y):\n",
    "    return x + y\n",
    "\n",
    "\n",
    "def subtract(x, y):\n",
    "    return x - y\n",
    "\n",
    "\n",
    "def multiply(x, y):\n",
    "    return x * y\n",
    "\n",
    "\n",
    "def divide(x, y):\n",
    "    return x / y\n",
    "\n",
    "\n",
    "print(\"Select operation.\")\n",
    "print(\"1.Add\")\n",
    "print(\"2.Subtract\")\n",
    "print(\"3.Multiply\")\n",
    "print(\"4.Divide\")\n",
    "\n",
    "while True:\n",
    "    # take input from the user\n",
    "    choice = input(\"Enter choice(1/2/3/4): \")\n",
    "\n",
    "    # check if choice is one of the four options\n",
    "    if choice in ('1', '2', '3', '4'):\n",
    "        try:\n",
    "            num1 = float(input(\"Enter first number: \"))\n",
    "            num2 = float(input(\"Enter second number: \"))\n",
    "        except ValueError:\n",
    "            print(\"Invalid input. Please enter a number.\")\n",
    "            continue\n",
    "\n",
    "        if choice == '1':\n",
    "            print(num1, \"+\", num2, \"=\", add(num1, num2))\n",
    "\n",
    "        elif choice == '2':\n",
    "            print(num1, \"-\", num2, \"=\", subtract(num1, num2))\n",
    "\n",
    "        elif choice == '3':\n",
    "            print(num1, \"*\", num2, \"=\", multiply(num1, num2))\n",
    "\n",
    "        elif choice == '4':\n",
    "            print(num1, \"/\", num2, \"=\", divide(num1, num2))\n",
    "        \n",
    "        # check if user wants another calculation\n",
    "        # break the while loop if answer is no\n",
    "        next_calculation = input(\"Let's do next calculation? (yes/no): \")\n",
    "        if next_calculation == \"no\":\n",
    "          break\n",
    "    else:\n",
    "        print(\"Invalid Input\")\n"
   ]
  }
 ],
 "metadata": {
  "kernelspec": {
   "display_name": "Python 3 (ipykernel)",
   "language": "python",
   "name": "python3"
  },
  "language_info": {
   "codemirror_mode": {
    "name": "ipython",
    "version": 3
   },
   "file_extension": ".py",
   "mimetype": "text/x-python",
   "name": "python",
   "nbconvert_exporter": "python",
   "pygments_lexer": "ipython3",
   "version": "3.10.6"
  }
 },
 "nbformat": 4,
 "nbformat_minor": 5
}
